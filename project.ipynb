{
  "nbformat": 4,
  "nbformat_minor": 0,
  "metadata": {
    "colab": {
      "provenance": [],
      "authorship_tag": "ABX9TyMLhqnkKHKo9G2pnQuqsncl",
      "include_colab_link": true
    },
    "kernelspec": {
      "name": "python3",
      "display_name": "Python 3"
    },
    "language_info": {
      "name": "python"
    }
  },
  "cells": [
    {
      "cell_type": "markdown",
      "metadata": {
        "id": "view-in-github",
        "colab_type": "text"
      },
      "source": [
        "<a href=\"https://colab.research.google.com/github/puschb/CS6336/blob/main/project.ipynb\" target=\"_parent\"><img src=\"https://colab.research.google.com/assets/colab-badge.svg\" alt=\"Open In Colab\"/></a>"
      ]
    },
    {
      "cell_type": "code",
      "execution_count": 14,
      "metadata": {
        "id": "TGLAkuqm0Daj"
      },
      "outputs": [],
      "source": [
        "import sklearn\n",
        "import keras\n",
        "import numpy as np\n",
        "import pandas as pd\n",
        "import matplotlib.pyplot as plt"
      ]
    },
    {
      "cell_type": "code",
      "source": [
        "dataset1 = np.loadtxt('project3_dataset1.txt')\n",
        "dataset2 = np.genfromtxt('project3_dataset2.txt')\n",
        "\n",
        "dataset1 = pd.DataFrame(dataset1)\n",
        "dataset2 = pd.DataFrame(dataset2)"
      ],
      "metadata": {
        "id": "wRSBMKjz0KM-"
      },
      "execution_count": 15,
      "outputs": []
    },
    {
      "cell_type": "code",
      "source": [
        "# Some data visualization\n",
        "\n",
        "print( dataset1.describe() )\n",
        "print( dataset2.describe() )"
      ],
      "metadata": {
        "colab": {
          "base_uri": "https://localhost:8080/"
        },
        "id": "s8dmqgek1uVB",
        "outputId": "ade53f39-8481-4601-8130-d8d0b6623ef3"
      },
      "execution_count": 18,
      "outputs": [
        {
          "output_type": "stream",
          "name": "stdout",
          "text": [
            "               0           1           2            3           4   \\\n",
            "count  569.000000  569.000000  569.000000   569.000000  569.000000   \n",
            "mean    14.127292   19.289649   91.969033   654.889104    0.096360   \n",
            "std      3.524049    4.301036   24.298981   351.914129    0.014064   \n",
            "min      6.981000    9.710000   43.790000   143.500000    0.052630   \n",
            "25%     11.700000   16.170000   75.170000   420.300000    0.086370   \n",
            "50%     13.370000   18.840000   86.240000   551.100000    0.095870   \n",
            "75%     15.780000   21.800000  104.100000   782.700000    0.105300   \n",
            "max     28.110000   39.280000  188.500000  2501.000000    0.163400   \n",
            "\n",
            "               5           6           7           8           9   ...  \\\n",
            "count  569.000000  569.000000  569.000000  569.000000  569.000000  ...   \n",
            "mean     0.104341    0.088799    0.048919    0.181162    0.062798  ...   \n",
            "std      0.052813    0.079720    0.038803    0.027414    0.007060  ...   \n",
            "min      0.019380    0.000000    0.000000    0.106000    0.049960  ...   \n",
            "25%      0.064920    0.029560    0.020310    0.161900    0.057700  ...   \n",
            "50%      0.092630    0.061540    0.033500    0.179200    0.061540  ...   \n",
            "75%      0.130400    0.130700    0.074000    0.195700    0.066120  ...   \n",
            "max      0.345400    0.426800    0.201200    0.304000    0.097440  ...   \n",
            "\n",
            "               21          22           23          24          25  \\\n",
            "count  569.000000  569.000000   569.000000  569.000000  569.000000   \n",
            "mean    25.677223  107.261213   880.583128    0.132369    0.254265   \n",
            "std      6.146258   33.602542   569.356993    0.022832    0.157336   \n",
            "min     12.020000   50.410000   185.200000    0.071170    0.027290   \n",
            "25%     21.080000   84.110000   515.300000    0.116600    0.147200   \n",
            "50%     25.410000   97.660000   686.500000    0.131300    0.211900   \n",
            "75%     29.720000  125.400000  1084.000000    0.146000    0.339100   \n",
            "max     49.540000  251.200000  4254.000000    0.222600    1.058000   \n",
            "\n",
            "               26          27          28          29          30  \n",
            "count  569.000000  569.000000  569.000000  569.000000  569.000000  \n",
            "mean     0.272188    0.114606    0.290076    0.083946    0.372583  \n",
            "std      0.208624    0.065732    0.061867    0.018061    0.483918  \n",
            "min      0.000000    0.000000    0.156500    0.055040    0.000000  \n",
            "25%      0.114500    0.064930    0.250400    0.071460    0.000000  \n",
            "50%      0.226700    0.099930    0.282200    0.080040    0.000000  \n",
            "75%      0.382900    0.161400    0.317900    0.092080    1.000000  \n",
            "max      1.252000    0.291000    0.663800    0.207500    1.000000  \n",
            "\n",
            "[8 rows x 31 columns]\n",
            "                0           1           2           3    4           5  \\\n",
            "count  462.000000  462.000000  462.000000  462.000000  0.0  462.000000   \n",
            "mean   138.326840    3.635649    4.740325   25.406732  NaN   53.103896   \n",
            "std     20.496317    4.593024    2.070909    7.780699  NaN    9.817534   \n",
            "min    101.000000    0.000000    0.980000    6.740000  NaN   13.000000   \n",
            "25%    124.000000    0.052500    3.282500   19.775000  NaN   47.000000   \n",
            "50%    134.000000    2.000000    4.340000   26.115000  NaN   53.000000   \n",
            "75%    148.000000    5.500000    5.790000   31.227500  NaN   60.000000   \n",
            "max    218.000000   31.200000   15.330000   42.490000  NaN   78.000000   \n",
            "\n",
            "                6           7           8           9  \n",
            "count  462.000000  462.000000  462.000000  462.000000  \n",
            "mean    26.044113   17.044394   42.816017    0.346320  \n",
            "std      4.213680   24.481059   14.608956    0.476313  \n",
            "min     14.700000    0.000000   15.000000    0.000000  \n",
            "25%     22.985000    0.510000   31.000000    0.000000  \n",
            "50%     25.805000    7.510000   45.000000    0.000000  \n",
            "75%     28.497500   23.892500   55.000000    1.000000  \n",
            "max     46.580000  147.190000   64.000000    1.000000  \n"
          ]
        }
      ]
    },
    {
      "cell_type": "code",
      "source": [
        "# Check correlations\n",
        "# (Most interested in the bottom row, correlations between features and label)\n",
        "plt.matshow( dataset1.corr() )\n",
        "plt.show()"
      ],
      "metadata": {
        "colab": {
          "base_uri": "https://localhost:8080/",
          "height": 437
        },
        "id": "DxiX0fRS2_ho",
        "outputId": "62e4c6e2-9754-437b-861e-02c67831db5d"
      },
      "execution_count": 19,
      "outputs": [
        {
          "output_type": "display_data",
          "data": {
            "text/plain": [
              "<Figure size 480x480 with 1 Axes>"
            ],
            "image/png": "[encoded data removed]"
          },
          "metadata": {}
        }
      ]
    },
    {
      "cell_type": "code",
      "source": [
        "plt.matshow( dataset2.corr() )\n",
        "plt.show()"
      ],
      "metadata": {
        "colab": {
          "base_uri": "https://localhost:8080/",
          "height": 437
        },
        "id": "I42QPhij3EC7",
        "outputId": "09d7e235-3b31-48a3-cdcb-faf591fb1622"
      },
      "execution_count": 20,
      "outputs": [
        {
          "output_type": "display_data",
          "data": {
            "text/plain": [
              "<Figure size 480x480 with 1 Axes>"
            ],
            "image/png": "[encoded data removed]"
          },
          "metadata": {}
        }
      ]
    },
    {
      "cell_type": "code",
      "source": [
        "from sklearn.model_selection import train_test_split\n",
        "from sklearn.pipeline import Pipeline\n",
        "from sklearn.preprocessing import OneHotEncoder\n",
        "from sklearn.preprocessing import StandardScaler\n",
        "from sklearn.compose import ColumnTransformer\n",
        "\n",
        "pipeline1 = Pipeline([\n",
        "    ('scaler', StandardScaler()),\n",
        "    ])\n",
        "\n",
        "ct = ColumnTransformer([(\"encoder\", OneHotEncoder(),[4])], remainder=\"passthrough\")\n",
        "\n",
        "pipeline2 = Pipeline([\n",
        "    ('scaler', StandardScaler()),\n",
        "    ('encoder', ct )\n",
        "    ])\n",
        "\n",
        "y1 = dataset1[:-1]\n",
        "dataset1.drop(columns=dataset1.columns[-1],  axis=1,  inplace=True)\n",
        "\n",
        "y1 = dataset2[:-1]\n",
        "dataset2.drop(columns=dataset2.columns[-1],  axis=1,  inplace=True)\n",
        "\n",
        "X_1, test_set1 = train_test_split(dataset1, test_size=.2)\n",
        "X_2, test_set2 = train_test_split(dataset2, test_size=.2)\n",
        "\n",
        "X_1 = pipeline1.fit_transform(X_1)\n",
        "X_2 = pipeline2.fit_transform(X_2)\n",
        "\n",
        "test_set1 = pipeline1.transform(test_set1)\n",
        "test_set2 = pipeline2.transform(test_set2)"
      ],
      "metadata": {
        "colab": {
          "base_uri": "https://localhost:8080/"
        },
        "id": "bhraGA1O3I4g",
        "outputId": "dab63629-08a6-45ee-f6f7-137857f577c1"
      },
      "execution_count": 33,
      "outputs": [
        {
          "output_type": "stream",
          "name": "stderr",
          "text": [
            "/usr/local/lib/python3.10/dist-packages/sklearn/utils/extmath.py:1047: RuntimeWarning: invalid value encountered in divide\n",
            "  updated_mean = (last_sum + new_sum) / updated_sample_count\n",
            "/usr/local/lib/python3.10/dist-packages/sklearn/utils/extmath.py:1052: RuntimeWarning: invalid value encountered in divide\n",
            "  T = new_sum / new_sample_count\n",
            "/usr/local/lib/python3.10/dist-packages/sklearn/utils/extmath.py:1072: RuntimeWarning: invalid value encountered in divide\n",
            "  new_unnormalized_variance -= correction**2 / new_sample_count\n"
          ]
        }
      ]
    }
  ]
}