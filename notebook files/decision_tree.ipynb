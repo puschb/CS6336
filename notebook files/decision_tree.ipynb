{
 "cells": [
  {
   "cell_type": "code",
   "execution_count": 13,
   "metadata": {},
   "outputs": [],
   "source": [
    "from data_loader import load_dataset1, load_dataset2\n",
    "from sklearn.tree import DecisionTreeClassifier\n",
    "from sklearn.model_selection import GridSearchCV\n",
    "import pandas as pd\n",
    "import numpy as np\n",
    "from sklearn.model_selection import train_test_split\n",
    "from sklearn.preprocessing import StandardScaler"
   ]
  },
  {
   "cell_type": "code",
   "execution_count": 14,
   "metadata": {},
   "outputs": [],
   "source": [
    "#load and pre-process data\n",
    "#mild imbalance in classes but should be fine\n",
    "x1, y1 = load_dataset1()\n",
    "x2, y2 = load_dataset2()\n",
    "scalar = StandardScaler(copy=False)\n",
    "scalar.fit(x1)\n",
    "scalar.transform(x1)\n",
    "scalar.fit(x2)\n",
    "\n",
    "#binary var\n",
    "scalar.mean_[4] = 0\n",
    "scalar.var_[4] = 1\n",
    "scalar.scale_[4] = 1\n",
    "scalar.transform(x2)\n",
    "\n",
    "#generate train and test split - NOTE: we do not use our test split at all until we have decided that we have our best model (which we will decide based on the validation\n",
    "# loss)\n",
    "train_x1, test_x1, train_y1, test_y1 = train_test_split(x1,y1, test_size=.2, random_state=42)\n",
    "train_x2, test_x2, train_y2, test_y2 = train_test_split(x2,y2,test_size=.2, random_state=42)\n"
   ]
  },
  {
   "cell_type": "code",
   "execution_count": 15,
   "metadata": {},
   "outputs": [],
   "source": [
    "clf_1 = DecisionTreeClassifier(random_state=42)\n",
    "clf_2 = DecisionTreeClassifier(random_state=42)\n",
    "\n",
    "params = {\n",
    "    \"max_depth\": np.linspace(5,40,8,dtype='int'),\n",
    "    \"min_samples_split\": np.linspace(2,15,7,dtype='int'),\n",
    "    \"min_samples_leaf\": [1, 2, 3, 4,5,6,7],\n",
    "    \"max_features\": [None, \"sqrt\", \"log2\"],\n",
    "    \"max_leaf_nodes\": np.linspace(5,40,8,dtype='int'),\n",
    "}\n",
    "\n",
    "grid_search_1 = GridSearchCV(\n",
    "    clf_1,\n",
    "    params,\n",
    "    cv=10,\n",
    "    scoring=(\"accuracy\", \"f1\", \"precision\", \"recall\", \"roc_auc\"),\n",
    "    refit=False,\n",
    "    verbose=2,\n",
    "    n_jobs=-1,\n",
    "    error_score=-1,\n",
    "    return_train_score=True\n",
    ")\n",
    "grid_search_2 = GridSearchCV(\n",
    "    clf_2,\n",
    "    params,\n",
    "    cv=10,\n",
    "    scoring=(\"accuracy\", \"f1\", \"precision\", \"recall\", \"roc_auc\"),\n",
    "    refit=False,\n",
    "    verbose=2,\n",
    "    n_jobs=-1,\n",
    "    error_score=-1,\n",
    "    return_train_score=True\n",
    ")"
   ]
  },
  {
   "cell_type": "code",
   "execution_count": 16,
   "metadata": {},
   "outputs": [
    {
     "name": "stdout",
     "output_type": "stream",
     "text": [
      "Fitting 10 folds for each of 9408 candidates, totalling 94080 fits\n",
      "Fitting 10 folds for each of 9408 candidates, totalling 94080 fits\n"
     ]
    }
   ],
   "source": [
    "# run grid search, write results to csv file\n",
    "grid_search_1.fit(train_x1, train_y1)\n",
    "df = pd.DataFrame(grid_search_1.cv_results_)\n",
    "df.to_csv(\"./results/decision_tree_grid_search_data_set1.csv\")\n",
    "\n",
    "grid_search_2.fit(train_x2, train_y2)\n",
    "df = pd.DataFrame(grid_search_2.cv_results_)\n",
    "df.to_csv(\"./results/decision_tree_grid_search_data_set2.csv\")"
   ]
  }
 ],
 "metadata": {
  "kernelspec": {
   "display_name": "Python 3 (ipykernel)",
   "language": "python",
   "name": "python3"
  },
  "language_info": {
   "codemirror_mode": {
    "name": "ipython",
    "version": 3
   },
   "file_extension": ".py",
   "mimetype": "text/x-python",
   "name": "python",
   "nbconvert_exporter": "python",
   "pygments_lexer": "ipython3",
   "version": "3.8.10"
  }
 },
 "nbformat": 4,
 "nbformat_minor": 4
}
