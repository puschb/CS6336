{
 "cells": [
  {
   "cell_type": "code",
   "execution_count": 1,
   "metadata": {},
   "outputs": [
    {
     "ename": "ModuleNotFoundError",
     "evalue": "No module named 'pandas'",
     "output_type": "error",
     "traceback": [
      "\u001b[0;31m---------------------------------------------------------------------------\u001b[0m",
      "\u001b[0;31mModuleNotFoundError\u001b[0m                       Traceback (most recent call last)",
      "Cell \u001b[0;32mIn[1], line 4\u001b[0m\n\u001b[1;32m      2\u001b[0m \u001b[38;5;28;01mfrom\u001b[39;00m \u001b[38;5;21;01msklearn\u001b[39;00m\u001b[38;5;21;01m.\u001b[39;00m\u001b[38;5;21;01msvm\u001b[39;00m \u001b[38;5;28;01mimport\u001b[39;00m SVC\n\u001b[1;32m      3\u001b[0m \u001b[38;5;28;01mfrom\u001b[39;00m \u001b[38;5;21;01msklearn\u001b[39;00m\u001b[38;5;21;01m.\u001b[39;00m\u001b[38;5;21;01mmodel_selection\u001b[39;00m \u001b[38;5;28;01mimport\u001b[39;00m GridSearchCV\n\u001b[0;32m----> 4\u001b[0m \u001b[38;5;28;01mimport\u001b[39;00m \u001b[38;5;21;01mpandas\u001b[39;00m \u001b[38;5;28;01mas\u001b[39;00m \u001b[38;5;21;01mpd\u001b[39;00m\n\u001b[1;32m      5\u001b[0m \u001b[38;5;28;01mimport\u001b[39;00m \u001b[38;5;21;01mnumpy\u001b[39;00m \u001b[38;5;28;01mas\u001b[39;00m \u001b[38;5;21;01mnp\u001b[39;00m\n\u001b[1;32m      6\u001b[0m \u001b[38;5;28;01mfrom\u001b[39;00m \u001b[38;5;21;01msklearn\u001b[39;00m\u001b[38;5;21;01m.\u001b[39;00m\u001b[38;5;21;01mmodel_selection\u001b[39;00m \u001b[38;5;28;01mimport\u001b[39;00m train_test_split\n",
      "\u001b[0;31mModuleNotFoundError\u001b[0m: No module named 'pandas'"
     ]
    }
   ],
   "source": [
    "from data_loader import load_dataset1, load_dataset2\n",
    "from sklearn.svm import SVC\n",
    "from sklearn.model_selection import GridSearchCV\n",
    "import pandas as pd\n",
    "import numpy as np\n",
    "from sklearn.model_selection import train_test_split\n",
    "from sklearn.preprocessing import StandardScaler"
   ]
  },
  {
   "cell_type": "code",
   "execution_count": null,
   "metadata": {},
   "outputs": [],
   "source": [
    "# load and pre-process data\n",
    "# mild imbalance in classes but should be fine\n",
    "x1, y1 = load_dataset1()\n",
    "x2, y2 = load_dataset2()\n",
    "scalar = StandardScaler(copy=False)\n",
    "scalar.fit(x1)\n",
    "scalar.transform(x1)\n",
    "scalar.fit(x2)\n",
    "\n",
    "# binary var\n",
    "scalar.mean_[4] = 0\n",
    "scalar.var_[4] = 1\n",
    "scalar.scale_[4] = 1\n",
    "scalar.transform(x2)\n",
    "\n",
    "# generate train and test split - NOTE: we do not use our test split at all until we have decided that we have our best model (which we will decide based on the validation\n",
    "# loss)\n",
    "train_x1, test_x1, train_y1, test_y1 = train_test_split(\n",
    "    x1, y1, test_size=0.2, random_state=42\n",
    ")\n",
    "train_x2, test_x2, train_y2, test_y2 = train_test_split(\n",
    "    x2, y2, test_size=0.2, random_state=42\n",
    ")"
   ]
  },
  {
   "cell_type": "code",
   "execution_count": null,
   "metadata": {},
   "outputs": [],
   "source": [
    "# define params, model, and grid search\n",
    "params = {\n",
    "    \"C\": np.logspace(-5, 6, 12),\n",
    "    \"kernel\": (\"linear\", \"poly\", \"rbf\"),\n",
    "    \"degree\": np.linspace(1, 9, 9, dtype=\"int\"),\n",
    "    \"gamma\": np.logspace(-5, 6, 12),\n",
    "}\n",
    "clf_1 = SVC(random_state=42, verbose=1)\n",
    "clf_2 = SVC(random_state=42, verbose=1)\n",
    "grid_search_1 = GridSearchCV(\n",
    "    clf_1,\n",
    "    params,\n",
    "    cv=10,\n",
    "    scoring=(\"accuracy\", \"f1\", \"precision\", \"recall\", \"roc_auc\"),\n",
    "    refit=False,\n",
    "    verbose=2,\n",
    "    n_jobs=-1,\n",
    "    error_score=-1,\n",
    "    return_train_score = True\n",
    ")\n",
    "grid_search_2 = GridSearchCV(\n",
    "    clf_2,\n",
    "    params,\n",
    "    cv=10,\n",
    "    scoring=(\"accuracy\", \"f1\", \"precision\", \"recall\", \"roc_auc\"),\n",
    "    refit=False,\n",
    "    verbose=2,\n",
    "    n_jobs=-1,\n",
    "    error_score=-1,\n",
    "    return_train_score = True\n",
    ")"
   ]
  },
  {
   "cell_type": "code",
   "execution_count": null,
   "metadata": {},
   "outputs": [],
   "source": [
    "# run grid search, write results to csv file\n",
    "grid_search_1.fit(train_x1, train_y1)\n",
    "df = pd.DataFrame(grid_search_1.cv_results_)\n",
    "df.to_csv(\"./results/svm_classifier_grid_search_data_set_1.csv\")\n",
    "\n",
    "grid_search_2.fit(train_x2, train_y2)\n",
    "df = pd.DataFrame(grid_search_2.cv_results_)\n",
    "df.to_csv(\"./results/svm_classifier_grid_search_data_set_2.csv\")"
   ]
  }
 ],
 "metadata": {
  "kernelspec": {
   "display_name": "Python 3 (ipykernel)",
   "language": "python",
   "name": "python3"
  },
  "language_info": {
   "codemirror_mode": {
    "name": "ipython",
    "version": 3
   },
   "file_extension": ".py",
   "mimetype": "text/x-python",
   "name": "python",
   "nbconvert_exporter": "python",
   "pygments_lexer": "ipython3",
   "version": "3.8.10"
  }
 },
 "nbformat": 4,
 "nbformat_minor": 4
}
