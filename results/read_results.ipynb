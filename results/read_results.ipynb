{
  "nbformat": 4,
  "nbformat_minor": 0,
  "metadata": {
    "colab": {
      "provenance": [],
      "authorship_tag": "ABX9TyNXJd1Mi+wXWIRuViF/Evrc",
      "include_colab_link": true
    },
    "kernelspec": {
      "name": "python3",
      "display_name": "Python 3"
    },
    "language_info": {
      "name": "python"
    }
  },
  "cells": [
    {
      "cell_type": "markdown",
      "metadata": {
        "id": "view-in-github",
        "colab_type": "text"
      },
      "source": [
        "<a href=\"https://colab.research.google.com/github/puschb/CS6336/blob/model_implementations/results/read_results.ipynb\" target=\"_parent\"><img src=\"https://colab.research.google.com/assets/colab-badge.svg\" alt=\"Open In Colab\"/></a>"
      ]
    },
    {
      "cell_type": "code",
      "execution_count": 33,
      "metadata": {
        "colab": {
          "base_uri": "https://localhost:8080/"
        },
        "id": "LvWq6oQWH-LW",
        "outputId": "3c28d825-4596-4b4d-d76f-c142cf0a9e3d"
      },
      "outputs": [
        {
          "output_type": "stream",
          "name": "stdout",
          "text": [
            "\n",
            " Best Logistic Regression Estimator Dataset 1\n",
            "Paramaters: {'C': 1.0, 'penalty': 'l2', 'solver': 'lbfgs'}\n",
            "Mean Test Accuracy: 0.9779710144927536\n",
            "Mean Test f1 score: 0.9684319103817074\n",
            "Mean Test Precision: 0.9882352941176472\n",
            "Mean Test Recall: 0.9518382352941176\n",
            "Mean Test Roc Auc 0.992782889017676\n",
            "\n",
            " Best Logistic Regression Estimator Dataset 2\n",
            "Paramaters: {'C': 0.1, 'penalty': 'l2', 'solver': 'lbfgs'}\n",
            "Mean Test Accuracy: 0.7263513513513513\n",
            "Mean Test f1 score: 0.5656988965834542\n",
            "Mean Test Precision: 0.6754473304473305\n",
            "Mean Test Recall: 0.5005494505494505\n",
            "Mean Test Roc Auc 0.7744804108934543\n",
            "\n",
            " Best kNN Estimator Dataset1\n",
            "Paramaters: {'n_neighbors': 4, 'p': 1, 'weights': 'distance'}\n",
            "Mean Test Accuracy: 0.9779710144927536\n",
            "Mean Test f1 score: 0.968058153840968\n",
            "Mean Test Precision: 1.0\n",
            "Mean Test Recall: 0.9397058823529412\n",
            "Mean Test Roc Auc 0.9756519849319036\n",
            "\n",
            " Best kNN Estimator Dataset2\n",
            "Paramaters: {'n_neighbors': 16, 'p': 4, 'weights': 'distance'}\n",
            "Mean Test Accuracy: 0.7073573573573573\n",
            "Mean Test f1 score: 0.4879562924076318\n",
            "Mean Test Precision: 0.6897008547008547\n",
            "Mean Test Recall: 0.4104395604395605\n",
            "Mean Test Roc Auc 0.7152084328714763\n",
            "\n",
            " Best Decision Tree Estimator Dataset1\n",
            "Paramaters: {'max_depth': 5, 'max_features': 'sqrt', 'max_leaf_nodes': 15, 'min_samples_leaf': 2, 'min_samples_split': 6}\n",
            "Mean Test Accuracy: 0.9383574879227052\n",
            "Mean Test f1 score: 0.913508053894022\n",
            "Mean Test Precision: 0.9274302413273002\n",
            "Mean Test Recall: 0.9029411764705882\n",
            "Mean Test Roc Auc 0.937232867284845\n",
            "\n",
            " Best Decision Tree Estimator Dataset2\n",
            "Paramaters: {'max_depth': 5, 'max_features': None, 'max_leaf_nodes': 5, 'min_samples_leaf': 1, 'min_samples_split': 2}\n",
            "Mean Test Accuracy: 0.7020270270270271\n",
            "Mean Test f1 score: 0.5130048386226876\n",
            "Mean Test Precision: 0.6164912280701754\n",
            "Mean Test Recall: 0.4626373626373626\n",
            "Mean Test Roc Auc 0.6990384615384615\n"
          ]
        }
      ],
      "source": [
        "import pandas as pd\n",
        "\n",
        "# Report the best results #\n",
        "\n",
        "def report_scores(csv, nrows=None):\n",
        "  if nrows != None:\n",
        "    df = pd.read_csv(csv, nrows=nrows)\n",
        "  else:\n",
        "    df = pd.read_csv(csv)\n",
        "  best_estimator = df.iloc[df['mean_test_accuracy'].argmax()]\n",
        "  print(\"Paramaters:\", best_estimator[\"params\"])\n",
        "  print(\"Mean Test Accuracy:\", best_estimator['mean_test_accuracy'])\n",
        "  print(\"Mean Test f1 score:\", best_estimator['mean_test_f1'])\n",
        "  print(\"Mean Test Precision:\", best_estimator['mean_test_precision'])\n",
        "  print(\"Mean Test Recall:\", best_estimator['mean_test_recall'])\n",
        "  print(\"Mean Test Roc Auc\", best_estimator['mean_test_roc_auc'])\n",
        "\n",
        "print('\\n', 'Best Logistic Regression Estimator Dataset 1')\n",
        "report_scores('logistic_regression_grid_search_data_set1.csv')\n",
        "\n",
        "print('\\n', 'Best Logistic Regression Estimator Dataset 2')\n",
        "report_scores('logistic_regression_grid_search_data_set2.csv')\n",
        "\n",
        "print('\\n', 'Best kNN Estimator Dataset1')\n",
        "report_scores('k_neighbor_grid_search_data_set1.csv')\n",
        "\n",
        "print('\\n', 'Best kNN Estimator Dataset2')\n",
        "report_scores('k_neighbor_grid_search_data_set2.csv')\n",
        "\n",
        "print('\\n', 'Best Decision Tree Estimator Dataset1')\n",
        "report_scores('decision_tree_grid_search_data_set1.csv', nrows=895)\n",
        "\n",
        "print('\\n', 'Best Decision Tree Estimator Dataset2')\n",
        "report_scores('decision_tree_grid_search_data_set2.csv', nrows=1754)\n",
        "\n",
        "# TO DO: report scores for SVM, Random_Forest"
      ]
    }
  ]
}