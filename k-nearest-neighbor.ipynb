{
 "cells": [
  {
   "cell_type": "code",
   "execution_count": 56,
   "metadata": {},
   "outputs": [],
   "source": [
    "from data_loader import load_dataset1, load_dataset2\n",
    "from sklearn.neighbors import KNeighborsClassifier\n",
    "from sklearn.model_selection import GridSearchCV\n",
    "import pandas as pd\n",
    "import numpy as np\n",
    "from sklearn.model_selection import train_test_split\n",
    "from sklearn.preprocessing import StandardScaler"
   ]
  },
  {
   "cell_type": "code",
   "execution_count": 57,
   "metadata": {},
   "outputs": [],
   "source": [
    "# load and pre-process data\n",
    "# mild imbalance in classes but should be fine\n",
    "x1, y1 = load_dataset1()\n",
    "x2, y2 = load_dataset2()\n",
    "scalar = StandardScaler(copy=False)\n",
    "scalar.fit(x1)\n",
    "scalar.transform(x1)\n",
    "scalar.fit(x2)\n",
    "\n",
    "scalar.mean_[4] = 0\n",
    "scalar.var_[4] = 1\n",
    "scalar.scale_[4] = 1\n",
    "scalar.transform(x2)\n",
    "\n",
    "\n",
    "# generate train and test split - NOTE: we do not use our test split at all until we have decided that we have our best model (which we will decide based on the validation\n",
    "# loss)\n",
    "train_x1, test_x1, train_y1, test_y1 = train_test_split(\n",
    "    x1, y1, test_size=0.2, random_state=42\n",
    ")\n",
    "train_x2, test_x2, train_y2, test_y2 = train_test_split(\n",
    "    x2, y2, test_size=0.2, random_state=42\n",
    ")"
   ]
  },
  {
   "cell_type": "code",
   "execution_count": 58,
   "metadata": {},
   "outputs": [],
   "source": [
    "# define params, model, and grid search\n",
    "params = {\n",
    "    \"n_neighbors\": np.linspace(1, 40, 41, dtype=\"int\"),\n",
    "    \"weights\": (\"uniform\", \"distance\"),\n",
    "    \"p\": (1, 2, 3, 4,5,6,7),\n",
    "}\n",
    "clf_1 = KNeighborsClassifier()\n",
    "clf_2 = KNeighborsClassifier()\n",
    "grid_search_1 = GridSearchCV(\n",
    "    clf_1,\n",
    "    params,\n",
    "    cv=10,\n",
    "    scoring=(\"accuracy\", \"f1\", \"precision\", \"recall\", \"roc_auc\"),\n",
    "    refit=False,\n",
    "    verbose=2,\n",
    "    n_jobs=-1,\n",
    "    return_train_score=True\n",
    ")\n",
    "grid_search_2 = GridSearchCV(\n",
    "    clf_2,\n",
    "    params,\n",
    "    cv=10,\n",
    "    scoring=(\"accuracy\", \"f1\", \"precision\", \"recall\", \"roc_auc\"),\n",
    "    refit=False,\n",
    "    verbose=2,\n",
    "    n_jobs=-1,\n",
    "    return_train_score=True\n",
    ")"
   ]
  },
  {
   "cell_type": "code",
   "execution_count": 59,
   "metadata": {},
   "outputs": [
    {
     "name": "stdout",
     "output_type": "stream",
     "text": [
      "Fitting 10 folds for each of 574 candidates, totalling 5740 fits\n",
      "Fitting 10 folds for each of 574 candidates, totalling 5740 fits\n"
     ]
    }
   ],
   "source": [
    "# run grid search, write results to csv file\n",
    "grid_search_1.fit(train_x1, train_y1)\n",
    "df = pd.DataFrame(grid_search_1.cv_results_)\n",
    "df.to_csv(\"./results/k_neighbor_grid_search_data_set1.csv\")\n",
    "\n",
    "grid_search_1.fit(train_x2, train_y2)\n",
    "df = pd.DataFrame(grid_search_1.cv_results_)\n",
    "df.to_csv(\"./results/k_neighbor_grid_search_data_set2.csv\")"
   ]
  }
 ],
 "metadata": {
  "kernelspec": {
   "display_name": ".venv",
   "language": "python",
   "name": "python3"
  },
  "language_info": {
   "codemirror_mode": {
    "name": "ipython",
    "version": 3
   },
   "file_extension": ".py",
   "mimetype": "text/x-python",
   "name": "python",
   "nbconvert_exporter": "python",
   "pygments_lexer": "ipython3",
   "version": "3.9.5"
  }
 },
 "nbformat": 4,
 "nbformat_minor": 2
}
